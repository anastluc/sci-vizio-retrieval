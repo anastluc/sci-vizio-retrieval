{
 "cells": [
  {
   "cell_type": "code",
   "execution_count": 4,
   "metadata": {},
   "outputs": [
    {
     "name": "stderr",
     "output_type": "stream",
     "text": [
      "/Users/la6387/workspace/sci-vizio-retrieval/.venv/lib/python3.11/site-packages/tqdm/auto.py:21: TqdmWarning: IProgress not found. Please update jupyter and ipywidgets. See https://ipywidgets.readthedocs.io/en/stable/user_install.html\n",
      "  from .autonotebook import tqdm as notebook_tqdm\n",
      "/Users/la6387/workspace/sci-vizio-retrieval/.venv/lib/python3.11/site-packages/torch/_utils.py:776: UserWarning: TypedStorage is deprecated. It will be removed in the future and UntypedStorage will be the only storage class. This should only matter to you if you are using storages directly.  To access UntypedStorage directly, use tensor.untyped_storage() instead of tensor.storage()\n",
      "  return self.fget.__get__(instance, owner)()\n"
     ]
    }
   ],
   "source": [
    "from chromadb.utils.embedding_functions import OpenCLIPEmbeddingFunction\n",
    "embedding_function = OpenCLIPEmbeddingFunction()"
   ]
  },
  {
   "cell_type": "code",
   "execution_count": null,
   "metadata": {},
   "outputs": [
    {
     "name": "stdout",
     "output_type": "stream",
     "text": [
      "Error generating embedding for image: 'Image' object is not iterable\n"
     ]
    }
   ],
   "source": [
    "from PIL import Image\n",
    "try:\n",
    "    image = Image.open(\"diagram1.png\").convert('RGB')\n",
    "\n",
    "    \n",
    "    image_tensor = self.transform(image).unsqueeze(0).to(self.device)\n",
    "    emb = embedding_function(image)\n",
    "    print(emb)\n",
    "    # with torch.no_grad():\n",
    "    #     embedding = self.model(image_tensor)\n",
    "    #     embedding = embedding.squeeze().cpu().numpy()\n",
    "        \n",
    "    # return embedding / np.linalg.norm(embedding)\n",
    "\n",
    "except Exception as e:\n",
    "    print(f\"Error generating embedding for image: {str(e)}\")\n",
    "\n",
    "# emb"
   ]
  },
  {
   "cell_type": "code",
   "execution_count": null,
   "metadata": {},
   "outputs": [],
   "source": []
  }
 ],
 "metadata": {
  "kernelspec": {
   "display_name": ".venv",
   "language": "python",
   "name": "python3"
  },
  "language_info": {
   "codemirror_mode": {
    "name": "ipython",
    "version": 3
   },
   "file_extension": ".py",
   "mimetype": "text/x-python",
   "name": "python",
   "nbconvert_exporter": "python",
   "pygments_lexer": "ipython3",
   "version": "3.11.2"
  }
 },
 "nbformat": 4,
 "nbformat_minor": 2
}
