{
 "cells": [
  {
   "cell_type": "code",
   "execution_count": 1,
   "metadata": {},
   "outputs": [],
   "source": [
    "import fitz  # PyMuPDF\n",
    "import os"
   ]
  },
  {
   "cell_type": "code",
   "execution_count": 2,
   "metadata": {},
   "outputs": [],
   "source": [
    "def extract_text(pdf_path, output_path):\n",
    "    \"\"\"\n",
    "    Extract text from PDF and save to file.\n",
    "    \n",
    "    Args:\n",
    "        pdf_path (Path): Path to the PDF file\n",
    "    \n",
    "    Returns:\n",
    "        tuple: (success, output_path or error_message)\n",
    "    \"\"\"\n",
    "    try:\n",
    "        pdf_document = fitz.open(str(pdf_path))\n",
    "        text_content = []\n",
    "        \n",
    "        for page_num in range(pdf_document.page_count):\n",
    "            page = pdf_document[page_num]\n",
    "            text_content.append(f\"--- Page {page_num + 1} ---\\n\")\n",
    "            text_content.append(page.get_text())\n",
    "            text_content.append(\"\\n\\n\")\n",
    "        \n",
    "        # Save text content\n",
    "        with open(output_path, 'w') as out:\n",
    "            out.write('\\n'.join(text_content))\n",
    "        \n",
    "        pdf_document.close()\n",
    "        return True, output_path\n",
    "        \n",
    "    except Exception as e:\n",
    "        return False, str(e)"
   ]
  },
  {
   "cell_type": "code",
   "execution_count": null,
   "metadata": {},
   "outputs": [],
   "source": []
  }
 ],
 "metadata": {
  "kernelspec": {
   "display_name": ".venv",
   "language": "python",
   "name": "python3"
  },
  "language_info": {
   "codemirror_mode": {
    "name": "ipython",
    "version": 3
   },
   "file_extension": ".py",
   "mimetype": "text/x-python",
   "name": "python",
   "nbconvert_exporter": "python",
   "pygments_lexer": "ipython3",
   "version": "3.11.2"
  }
 },
 "nbformat": 4,
 "nbformat_minor": 2
}
