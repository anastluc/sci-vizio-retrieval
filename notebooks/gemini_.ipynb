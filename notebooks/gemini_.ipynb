{
 "cells": [
  {
   "cell_type": "code",
   "execution_count": 33,
   "metadata": {},
   "outputs": [],
   "source": [
    "import base64\n",
    "import os\n",
    "import google.generativeai as genai\n",
    "from dotenv import load_dotenv\n",
    "import time"
   ]
  },
  {
   "cell_type": "code",
   "execution_count": 34,
   "metadata": {},
   "outputs": [],
   "source": [
    "\n",
    "class GeminiVision():\n",
    "    def __init__(self, model: str):\n",
    "        load_dotenv()\n",
    "        genai.configure(api_key=os.environ[\"GEMINI_API_KEY\"])\n",
    "        self.model = model\n",
    "    \n",
    "        \n",
    "    def analyze_image(self, image_path: str, prompt: str) -> str:\n",
    "        max_retries: int = 3\n",
    "        initial_delay: float = 1.0\n",
    "\n",
    "        # Create the model\n",
    "        generation_config = {\n",
    "            \"temperature\": 1,\n",
    "            \"top_p\": 0.95,\n",
    "            \"top_k\": 40,\n",
    "            \"max_output_tokens\": 8192,\n",
    "            \"response_mime_type\": \"text/plain\",\n",
    "        }\n",
    "\n",
    "        model = genai.GenerativeModel(\n",
    "            model_name=self.model,\n",
    "            generation_config=generation_config,\n",
    "        )\n",
    "\n",
    "        response = None\n",
    "        last_exception = None\n",
    "\n",
    "            \n",
    "        files = [self.upload_to_gemini(image_path)]\n",
    "        print(files[0])\n",
    "        \n",
    "        chat_session = model.start_chat(\n",
    "            history=[\n",
    "                {\n",
    "                    \"role\": \"user\",\n",
    "                    \"parts\": [files[0]],\n",
    "                },\n",
    "            ]\n",
    "        )\n",
    "\n",
    "        response = chat_session.send_message(prompt)\n",
    "        # If we get here without an exception, we have a successful response\n",
    "        return response\n",
    "\n",
    "            \n",
    "\n",
    "    def upload_to_gemini(self, path):\n",
    "        \"\"\"Uploads the given file to Gemini.\n",
    "\n",
    "        See https://ai.google.dev/gemini-api/docs/prompting_with_media\n",
    "        \"\"\"\n",
    "        file = genai.upload_file(path, mime_type=\"image/png\" )\n",
    "        print(f\"Uploaded file '{file.display_name}' as: {file.uri}\")\n",
    "        return file"
   ]
  },
  {
   "cell_type": "code",
   "execution_count": 35,
   "metadata": {},
   "outputs": [],
   "source": [
    "USER_PROMPT = \"\"\"You will be provided with an image. \n",
    "    Your response should contain as much information as possible from this diagram. \n",
    "    It should contain a description of what type of image is (e.g. diagram, graph, flowchart, etc.) \n",
    "    and the data that comprises it.\n",
    "    The response should be a valid JSON object as a string. \n",
    "    The JSON should necessarily have the following attributes:\n",
    "    image_type, title, description\n",
    "    But also if applicable the following:\n",
    "    time_period, x-axis, y-axis, sources, sections, labels, ticks, key patterns\n",
    "    Begin immediately with outputting the JSON object, do NOT prefix with any extra text, start straight with the json object, i.e. the first character should be {\n",
    "    Do NOT suffix with any extra text, finish with the json object, i.e. the last character should be }\n",
    "    \"\"\""
   ]
  },
  {
   "cell_type": "code",
   "execution_count": 36,
   "metadata": {},
   "outputs": [
    {
     "name": "stdout",
     "output_type": "stream",
     "text": [
      "Uploaded file 'page6_img2.png' as: https://generativelanguage.googleapis.com/v1beta/files/8tpuof5n6qri\n",
      "genai.File({\n",
      "    'name': 'files/8tpuof5n6qri',\n",
      "    'display_name': 'page6_img2.png',\n",
      "    'mime_type': 'image/png',\n",
      "    'sha256_hash': 'ZTY5MzVlOGRkMWMxYTJlOGY3NjFhZjM5YmFjYTMxMjhmNmQ3OTM0MWI4NzBhMWVmOWQ4MGRjZDRkMzY3OTg3Nw==',\n",
      "    'size_bytes': '230080',\n",
      "    'state': 'ACTIVE',\n",
      "    'uri': 'https://generativelanguage.googleapis.com/v1beta/files/8tpuof5n6qri',\n",
      "    'create_time': '2025-01-09T22:33:11.096775Z',\n",
      "    'expiration_time': '2025-01-11T22:33:11.046868912Z',\n",
      "    'update_time': '2025-01-09T22:33:11.096775Z'})\n"
     ]
    }
   ],
   "source": [
    "gem = GeminiVision(model=\"gemini-2.0-flash-exp\")\n",
    "try:\n",
    "    response = gem.analyze_image(\"/Users/la6387/workspace/sci-vizio-retrieval/output/extracted_images/1908.09635/page6_img2.png\", USER_PROMPT)\n",
    "    status = 200\n",
    "except Exception as e:\n",
    "    print(f\"Failed to get response: {str(e)}\")\n",
    "    status = 500"
   ]
  },
  {
   "cell_type": "code",
   "execution_count": 37,
   "metadata": {},
   "outputs": [
    {
     "data": {
      "text/plain": [
       "'```json\\n{\\n  \"image_type\": \"choropleth map\",\\n  \"title\": \"Global Heatmap Visualization\",\\n  \"description\": \"This choropleth map displays data across the world using a color gradient, with darker shades representing higher values and lighter shades representing lower values. The color key ranges from 1 to 642,997 indicating data magnitude.\",\\n    \"key patterns\": [\\n        {\\n            \"color\": \"darkest black\",\\n            \"data value\": \"642,997\",\\n            \"region\": \"United States and Alaska\"\\n        },\\n        {\\n          \"color\": \"medium gray\",\\n            \"region\": \"United Kingdom\"\\n        },\\n        {\\n            \"color\": \"light gray\",\\n          \"region\": \"Australia, Japan and Canada\"\\n        }\\n    ],\\n  \"labels\": [\\n    \"United States\",\\n    \"Alaska\",\\n    \"Canada\",\\n    \"United Kingdom\",\\n     \"Australia\",\\n     \"Japan\"\\n  ]\\n}\\n```\\n'"
      ]
     },
     "execution_count": 37,
     "metadata": {},
     "output_type": "execute_result"
    }
   ],
   "source": [
    "response.text"
   ]
  },
  {
   "cell_type": "code",
   "execution_count": null,
   "metadata": {},
   "outputs": [],
   "source": []
  },
  {
   "cell_type": "code",
   "execution_count": null,
   "metadata": {},
   "outputs": [],
   "source": []
  }
 ],
 "metadata": {
  "kernelspec": {
   "display_name": ".venv",
   "language": "python",
   "name": "python3"
  },
  "language_info": {
   "codemirror_mode": {
    "name": "ipython",
    "version": 3
   },
   "file_extension": ".py",
   "mimetype": "text/x-python",
   "name": "python",
   "nbconvert_exporter": "python",
   "pygments_lexer": "ipython3",
   "version": "3.11.2"
  }
 },
 "nbformat": 4,
 "nbformat_minor": 2
}
